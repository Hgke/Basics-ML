{
 "cells": [
  {
   "cell_type": "code",
   "execution_count": 1,
   "id": "bea67519",
   "metadata": {},
   "outputs": [],
   "source": [
    "import cv2"
   ]
  },
  {
   "cell_type": "code",
   "execution_count": 7,
   "id": "2c6547e5",
   "metadata": {},
   "outputs": [],
   "source": [
    "def loading_displaying_saving():\n",
    "    img = cv2.imread('data/photo.jpg', cv2.IMREAD_GRAYSCALE)\n",
    "    cv2.imshow('photo', img)\n",
    "    cv2.waitKey(0)\n",
    "    cv2.imwrite('data/grayphoto.jpg', img)"
   ]
  },
  {
   "cell_type": "code",
   "execution_count": 8,
   "id": "cb279b04",
   "metadata": {},
   "outputs": [],
   "source": [
    "loading_displaying_saving()"
   ]
  },
  {
   "cell_type": "code",
   "execution_count": 15,
   "id": "2052cb19",
   "metadata": {},
   "outputs": [
    {
     "data": {
      "text/plain": [
       "(1600, 1090, 3)"
      ]
     },
     "execution_count": 15,
     "metadata": {},
     "output_type": "execute_result"
    }
   ],
   "source": [
    "img = cv2.imread('data/photo.jpg', cv2.IMREAD_COLOR)\n",
    "img.shape"
   ]
  },
  {
   "cell_type": "code",
   "execution_count": 22,
   "id": "f4f77c9a",
   "metadata": {},
   "outputs": [
    {
     "data": {
      "text/plain": [
       "array([234, 201, 181], dtype=uint8)"
      ]
     },
     "execution_count": 22,
     "metadata": {},
     "output_type": "execute_result"
    }
   ],
   "source": [
    "img[1599,0]"
   ]
  },
  {
   "cell_type": "code",
   "execution_count": null,
   "id": "8e0e64ca",
   "metadata": {},
   "outputs": [],
   "source": []
  }
 ],
 "metadata": {
  "kernelspec": {
   "display_name": "Python 3 (ipykernel)",
   "language": "python",
   "name": "python3"
  },
  "language_info": {
   "codemirror_mode": {
    "name": "ipython",
    "version": 3
   },
   "file_extension": ".py",
   "mimetype": "text/x-python",
   "name": "python",
   "nbconvert_exporter": "python",
   "pygments_lexer": "ipython3",
   "version": "3.9.6"
  }
 },
 "nbformat": 4,
 "nbformat_minor": 5
}
